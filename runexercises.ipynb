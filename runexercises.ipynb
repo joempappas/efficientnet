{
  "nbformat": 4,
  "nbformat_minor": 0,
  "metadata": {
    "colab": {
      "provenance": [],
      "authorship_tag": "ABX9TyNhGyQUddiv+7JBqHJjeucS",
      "include_colab_link": true
    },
    "kernelspec": {
      "name": "python3",
      "display_name": "Python 3"
    },
    "language_info": {
      "name": "python"
    }
  },
  "cells": [
    {
      "cell_type": "markdown",
      "metadata": {
        "id": "view-in-github",
        "colab_type": "text"
      },
      "source": [
        "<a href=\"https://colab.research.google.com/github/joempappas/efficientnet/blob/master/runexercises.ipynb\" target=\"_parent\"><img src=\"https://colab.research.google.com/assets/colab-badge.svg\" alt=\"Open In Colab\"/></a>"
      ]
    },
    {
      "cell_type": "code",
      "source": [
        "from google.colab import drive\n",
        "drive.mount('/content/gdrive')"
      ],
      "metadata": {
        "colab": {
          "base_uri": "https://localhost:8080/"
        },
        "id": "Q8Nmy_Kp5gCH",
        "outputId": "677b93a9-4bd7-4117-8e01-050907031e64"
      },
      "execution_count": 3,
      "outputs": [
        {
          "output_type": "stream",
          "name": "stdout",
          "text": [
            "Mounted at /content/gdrive\n"
          ]
        }
      ]
    },
    {
      "cell_type": "code",
      "source": [
        "!cd gdrive/MyDrive/ECE570/Project/EfficientNet"
      ],
      "metadata": {
        "id": "9_mb1DF56lVq"
      },
      "execution_count": 6,
      "outputs": []
    },
    {
      "cell_type": "code",
      "source": [
        "!git config --global user.name \"joempappas\"\n",
        "!git config --global user.email \"pappas_joe@yahoo.com\"\n",
        "!git config --global user.password \"Rbk;rwpsooGPLUA/4QBb\""
      ],
      "metadata": {
        "id": "udTSEDf47BQw"
      },
      "execution_count": 9,
      "outputs": []
    },
    {
      "cell_type": "code",
      "source": [],
      "metadata": {
        "id": "JeAKt90Q7Ctv"
      },
      "execution_count": null,
      "outputs": []
    },
    {
      "cell_type": "code",
      "execution_count": 12,
      "metadata": {
        "colab": {
          "base_uri": "https://localhost:8080/"
        },
        "id": "Q99na1Lk5Ta3",
        "outputId": "e140e44e-4d13-4da6-8ff2-4a9a1b7644fb"
      },
      "outputs": [
        {
          "output_type": "stream",
          "name": "stdout",
          "text": [
            "Cloning into 'efficientnet'...\n",
            "fatal: unable to access 'https://joempappas:Rbk;rwpsooGPLUA/4QBb@github.com/joempappas/efficientnet.git/': Port number ended with 'R'\n"
          ]
        }
      ],
      "source": [
        "!git clone https://joempappas:Rbk;rwpsooGPLUA/4QBb@github.com/joempappas/efficientnet.git"
      ]
    },
    {
      "cell_type": "code",
      "source": [],
      "metadata": {
        "id": "AqDpvHHr-lgQ"
      },
      "execution_count": null,
      "outputs": []
    }
  ]
}